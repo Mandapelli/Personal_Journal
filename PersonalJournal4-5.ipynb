{
 "cells": [
  {
   "cell_type": "markdown",
   "id": "6e7a8078-ad99-49d4-aedb-eae2383d3629",
   "metadata": {},
   "source": [
    "#personal journal app"
   ]
  },
  {
   "cell_type": "code",
   "execution_count": 1,
   "id": "a4c5635f-aa32-4278-b325-7477eb0881d6",
   "metadata": {},
   "outputs": [
    {
     "name": "stdout",
     "output_type": "stream",
     "text": [
      "\n",
      "--- Personal Journal ---\n",
      "1. Write a new journal entry\n",
      "2. View a journal entry by date\n",
      "0. Exit\n"
     ]
    },
    {
     "name": "stdin",
     "output_type": "stream",
     "text": [
      "Choose an option:  1\n",
      "Enter the date for the entry (YYYY-MM-DD) or press Enter for today's date:  2024-10-08\n",
      "Write your journal entry for i2024-10-08:\n",
      " i need to write a journal today\n"
     ]
    },
    {
     "name": "stdout",
     "output_type": "stream",
     "text": [
      "Journal entry saved for 2024-10-08.\n",
      "\n",
      "--- Personal Journal ---\n",
      "1. Write a new journal entry\n",
      "2. View a journal entry by date\n",
      "0. Exit\n"
     ]
    },
    {
     "name": "stdin",
     "output_type": "stream",
     "text": [
      "Choose an option:  1\n",
      "Enter the date for the entry (YYYY-MM-DD) or press Enter for today's date:  2024-10-11\n",
      "Write your journal entry for i2024-10-11:\n",
      " I want to read journal \n"
     ]
    },
    {
     "name": "stdout",
     "output_type": "stream",
     "text": [
      "Journal entry saved for 2024-10-11.\n",
      "\n",
      "--- Personal Journal ---\n",
      "1. Write a new journal entry\n",
      "2. View a journal entry by date\n",
      "0. Exit\n"
     ]
    },
    {
     "name": "stdin",
     "output_type": "stream",
     "text": [
      "Choose an option:  2\n",
      "Enter the date of the journal entry you want to view (YYYY-MM-DD):  2024-10-10\n"
     ]
    },
    {
     "name": "stdout",
     "output_type": "stream",
     "text": [
      "No journal entry found for 2024-10-10.\n",
      "\n",
      "--- Personal Journal ---\n",
      "1. Write a new journal entry\n",
      "2. View a journal entry by date\n",
      "0. Exit\n"
     ]
    },
    {
     "name": "stdin",
     "output_type": "stream",
     "text": [
      "Choose an option:  2\n",
      "Enter the date of the journal entry you want to view (YYYY-MM-DD):  2024-10-08\n"
     ]
    },
    {
     "name": "stdout",
     "output_type": "stream",
     "text": [
      "Journal entry for 2024-10-08:\n",
      "\n",
      "17:11:27 - i need to write a journal today\n",
      "\n",
      "\n",
      "--- Personal Journal ---\n",
      "1. Write a new journal entry\n",
      "2. View a journal entry by date\n",
      "0. Exit\n"
     ]
    },
    {
     "name": "stdin",
     "output_type": "stream",
     "text": [
      "Choose an option:  0\n"
     ]
    },
    {
     "name": "stdout",
     "output_type": "stream",
     "text": [
      "Exiting journal. Goodbye!\n"
     ]
    }
   ],
   "source": [
    "import os\n",
    "from datetime import datetime\n",
    "\n",
    "# Directory to store journal entries\n",
    "journal_dir = \"journal_entries\"\n",
    "\n",
    "# Ensure the directory exists\n",
    "if not os.path.exists(journal_dir):\n",
    "    os.makedirs(journal_dir)\n",
    "\n",
    "# Function to write a journal entry\n",
    "def write_journal():\n",
    "    # Get current date as the default date for the entry\n",
    "    date = input(\"Enter the date for the entry (YYYY-MM-DD) or press Enter for today's date: \")\n",
    "    if not date:\n",
    "        date = datetime.now().strftime('%Y-%m-%d')\n",
    "\n",
    "    entry = input(f\"Write your journal entry for i{date}:\\n\")\n",
    "    \n",
    "    # Create a file named by the date, store the entry\n",
    "    file_name = f\"{journal_dir}/{date}.txt\"\n",
    "    with open(file_name, 'a') as file:\n",
    "        file.write(f\"{datetime.now().strftime('%H:%M:%S')} - {entry}\\n\")\n",
    "    \n",
    "    print(f\"Journal entry saved for {date}.\")\n",
    "\n",
    "# Function to view a journal entry by date\n",
    "def view_journal():\n",
    "    date = input(\"Enter the date of the journal entry you want to view (YYYY-MM-DD): \")\n",
    "    file_name = f\"{journal_dir}/{date}.txt\"\n",
    "    \n",
    "    if os.path.exists(file_name):\n",
    "        with open(file_name, 'r') as file:\n",
    "            print(f\"Journal entry for {date}:\\n\")\n",
    "            print(file.read())\n",
    "    else:\n",
    "        print(f\"No journal entry found for {date}.\")\n",
    "\n",
    "# Main menu\n",
    "def journal_menu():\n",
    "    while True:\n",
    "        print(\"\\n--- Personal Journal ---\")\n",
    "        print(\"1. Write a new journal entry\")\n",
    "        print(\"2. View a journal entry by date\")\n",
    "        print(\"0. Exit\")\n",
    "        \n",
    "        choice = input(\"Choose an option: \")\n",
    "        \n",
    "        if choice == '1':\n",
    "            write_journal()\n",
    "        elif choice == '2':\n",
    "            view_journal()\n",
    "        elif choice == '0':\n",
    "            print(\"Exiting journal. Goodbye!\")\n",
    "            break\n",
    "        else:\n",
    "            print(\"Invalid option, please try again.\")\n",
    "\n",
    "# Run the journal app\n",
    "journal_menu()\n"
   ]
  },
  {
   "cell_type": "code",
   "execution_count": null,
   "id": "57239781-5cc4-4da3-9a27-b190a632bdcc",
   "metadata": {},
   "outputs": [],
   "source": []
  }
 ],
 "metadata": {
  "kernelspec": {
   "display_name": "Python 3 (ipykernel)",
   "language": "python",
   "name": "python3"
  },
  "language_info": {
   "codemirror_mode": {
    "name": "ipython",
    "version": 3
   },
   "file_extension": ".py",
   "mimetype": "text/x-python",
   "name": "python",
   "nbconvert_exporter": "python",
   "pygments_lexer": "ipython3",
   "version": "3.12.4"
  }
 },
 "nbformat": 4,
 "nbformat_minor": 5
}
